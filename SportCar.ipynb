{
 "cells": [
  {
   "cell_type": "code",
   "execution_count": 4,
   "metadata": {},
   "outputs": [],
   "source": [
    "#[---------------------------- VARIABLES ------------------------]\n",
    "\n",
    "#Car Make: The brand or company that produced the sports car.\n",
    "#Car Model: The specific model of the sports car.\n",
    "#Year: The year the sports car was produced.\n",
    "#Engine Size (L): The engine size in liters.\n",
    "#Cylinders: The number of cylinders in the engine.\n",
    "#Housepower: The horsepower of the sports car.\n",
    "#Torque (lb-ft): The torque of the sports car in pound-feet.\n",
    "#0-60 mph (s): The time it takes for the sports car to accelerate from 0 to 60 miles per hour in seconds.\n",
    "#Price ($): The price of the sports car in dollars."
   ]
  },
  {
   "cell_type": "code",
   "execution_count": 5,
   "metadata": {},
   "outputs": [],
   "source": [
    "#[---------------------------- LIBRERIAS ------------------------]\n",
    "import pandas as pd\n",
    "import numpy as np\n",
    "import matplotlib.pyplot as plt"
   ]
  },
  {
   "cell_type": "code",
   "execution_count": 6,
   "metadata": {},
   "outputs": [],
   "source": [
    "#[---------------------------- CARGAR DATOS ------------------------]\n",
    "datos_precio = pd.read_csv('SportCarPrice.csv')"
   ]
  },
  {
   "cell_type": "code",
   "execution_count": 9,
   "metadata": {},
   "outputs": [
    {
     "data": {
      "text/plain": [
       "Index(['Car Make', 'Car Model', 'Year', 'Engine Size (L)', 'Horsepower',\n",
       "       'Torque (lb-ft)', '0-60 MPH Time (seconds)', 'Price (in USD)'],\n",
       "      dtype='object')"
      ]
     },
     "execution_count": 9,
     "metadata": {},
     "output_type": "execute_result"
    }
   ],
   "source": [
    "#[---------------------------- EXPLORACION DE DATOS ------------------------]\n",
    "datos_precio.head()\n",
    "datos_precio.columns\n"
   ]
  },
  {
   "cell_type": "code",
   "execution_count": 8,
   "metadata": {},
   "outputs": [
    {
     "name": "stdout",
     "output_type": "stream",
     "text": [
      "<class 'pandas.core.frame.DataFrame'>\n",
      "RangeIndex: 1007 entries, 0 to 1006\n",
      "Data columns (total 8 columns):\n",
      " #   Column                   Non-Null Count  Dtype \n",
      "---  ------                   --------------  ----- \n",
      " 0   Car Make                 1007 non-null   object\n",
      " 1   Car Model                1007 non-null   object\n",
      " 2   Year                     1007 non-null   int64 \n",
      " 3   Engine Size (L)          997 non-null    object\n",
      " 4   Horsepower               1007 non-null   object\n",
      " 5   Torque (lb-ft)           1004 non-null   object\n",
      " 6   0-60 MPH Time (seconds)  1007 non-null   object\n",
      " 7   Price (in USD)           1007 non-null   object\n",
      "dtypes: int64(1), object(7)\n",
      "memory usage: 63.1+ KB\n"
     ]
    }
   ],
   "source": [
    "datos_precio.info()"
   ]
  }
 ],
 "metadata": {
  "kernelspec": {
   "display_name": "Python 3",
   "language": "python",
   "name": "python3"
  },
  "language_info": {
   "codemirror_mode": {
    "name": "ipython",
    "version": 3
   },
   "file_extension": ".py",
   "mimetype": "text/x-python",
   "name": "python",
   "nbconvert_exporter": "python",
   "pygments_lexer": "ipython3",
   "version": "3.12.0"
  }
 },
 "nbformat": 4,
 "nbformat_minor": 2
}
