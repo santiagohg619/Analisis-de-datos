{
 "cells": [
  {
   "cell_type": "code",
   "execution_count": null,
   "metadata": {},
   "outputs": [],
   "source": [
    "#[---------------------------- VARIABLES ------------------------]\n",
    "\n",
    "#Car Make: The brand or company that produced the sports car.\n",
    "#Car Model: The specific model of the sports car.\n",
    "#Year: The year the sports car was produced.\n",
    "#Engine Size (L): The engine size in liters.\n",
    "#Cylinders: The number of cylinders in the engine.\n",
    "#Housepower: The horsepower of the sports car.\n",
    "#Torque (lb-ft): The torque of the sports car in pound-feet.\n",
    "#0-60 mph (s): The time it takes for the sports car to accelerate from 0 to 60 miles per hour in seconds.\n",
    "#Price ($): The price of the sports car in dollars."
   ]
  },
  {
   "cell_type": "code",
   "execution_count": null,
   "metadata": {},
   "outputs": [],
   "source": [
    "#[---------------------------- LIBRERIAS ------------------------]\n",
    "import pandas as pd\n",
    "import numpy as np\n",
    "import matplotlib.pyplot as plt"
   ]
  },
  {
   "cell_type": "code",
   "execution_count": null,
   "metadata": {},
   "outputs": [],
   "source": [
    "#[---------------------------- CARGAR DATOS ------------------------]\n",
    "#Cargar datos\n",
    "datos_precio = pd.read_csv('SportCarPrices.csv')"
   ]
  },
  {
   "cell_type": "code",
   "execution_count": null,
   "metadata": {},
   "outputs": [],
   "source": [
    "#[---------------------------- EXPLORACION DE DATOS ------------------------]\n",
    "datos_precio.head()\n",
    "\n"
   ]
  },
  {
   "cell_type": "code",
   "execution_count": null,
   "metadata": {},
   "outputs": [],
   "source": [
    "datos_precio.columns"
   ]
  },
  {
   "cell_type": "code",
   "execution_count": null,
   "metadata": {},
   "outputs": [],
   "source": [
    "datos_precio.info()"
   ]
  },
  {
   "cell_type": "code",
   "execution_count": null,
   "metadata": {},
   "outputs": [],
   "source": [
    "\n",
    "# Convertir datos a numericos:\n",
    "\n",
    "# Flotantes:\n",
    "datos_precio[\"Engine Size (L)\"] = pd.to_numeric(datos_precio[\"Engine Size (L)\"], errors='coerce')\n",
    "datos_precio[\"0-60 MPH Time (seconds)\"] = pd.to_numeric(datos_precio[\"0-60 MPH Time (seconds)\"], errors='coerce')\n",
    "# Enteros:\n",
    "datos_precio[\"Horsepower\"] = pd.to_numeric(datos_precio[\"Horsepower\"], errors='coerce').astype('float64')\n",
    "datos_precio[\"Torque (lb-ft)\"] = pd.to_numeric(datos_precio[\"Torque (lb-ft)\"], errors='coerce').astype('float64')\n",
    "datos_precio[\"Price (in USD)\"] = pd.to_numeric(datos_precio[\"Price (in USD)\"], errors='coerce').astype('float64')\n",
    "\n",
    "# Calcular la media de cada columna numérica\n",
    "mediaEngine = datos_precio[\"Engine Size (L)\"].mean()\n",
    "media0_60 = datos_precio[\"0-60 MPH Time (seconds)\"].mean()\n",
    "mediaHorse = datos_precio[\"Horsepower\"].mean()\n",
    "mediaTorque = datos_precio[\"Torque (lb-ft)\"].mean()\n",
    "mediaPrice = datos_precio[\"Price (in USD)\"].mean()\n",
    "\n",
    "# Reemplazar los valores nulos con la media de cada columna numérica\n",
    "datos_precio[\"Engine Size (L)\"].fillna(mediaEngine, inplace=True)\n",
    "datos_precio[\"0-60 MPH Time (seconds)\"].fillna(media0_60, inplace=True)\n",
    "datos_precio[\"Horsepower\"].fillna(mediaHorse, inplace=True)\n",
    "datos_precio[\"Torque (lb-ft)\"].fillna(mediaTorque, inplace=True)\n",
    "datos_precio[\"Price (in USD)\"].fillna(mediaPrice, inplace=True)\n",
    "\n",
    "# Mostrar datos después de la conversión:\n",
    "print(\"\\nDatos después de la conversión: \")\n",
    "print(datos_precio.dtypes)\n",
    "\n",
    "# Verificar si los valores nulos se han reemplazado correctamente\n",
    "print(datos_precio.isnull().sum())"
   ]
  }
 ],
 "metadata": {
  "kernelspec": {
   "display_name": "Python 3",
   "language": "python",
   "name": "python3"
  },
  "language_info": {
   "codemirror_mode": {
    "name": "ipython",
    "version": 3
   },
   "file_extension": ".py",
   "mimetype": "text/x-python",
   "name": "python",
   "nbconvert_exporter": "python",
   "pygments_lexer": "ipython3",
   "version": "3.12.0"
  }
 },
 "nbformat": 4,
 "nbformat_minor": 2
}
