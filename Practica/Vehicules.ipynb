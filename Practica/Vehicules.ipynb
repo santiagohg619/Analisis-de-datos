{
 "cells": [
  {
   "cell_type": "code",
   "execution_count": 4,
   "metadata": {},
   "outputs": [],
   "source": [
    "#Lista de variables:\n",
    "\n",
    "# name: nombre del vehiculo\n",
    "# year: año de fabricacion\n",
    "# selling_prince: precio de venta\n",
    "# km_drive: kilometraje\n",
    "# fuel: tipo de combustible\n",
    "# seller_type: tipo de vendedor\n",
    "# transmission: tipo de transmision\n",
    "# owner: numero de dueños anteriores\n",
    "# mileage: kilometraje por litro\n",
    "# engine: tamaño del motor\n",
    "# max_power: potencia maxima\n",
    "# torque: torque\n",
    "# seats: numero de asientos\n",
    "# engine_numeric: tamaño del motor en numeros\n",
    "# max_power_numeric: potencia maxima en numeros\n",
    "# torque_numeric: torque en numeros\n",
    "# mileage_numeric: kilometraje por litro en numeros\n",
    "\n",
    "\n",
    "# List of variables:\n",
    "\n",
    "# name: vehicle name\n",
    "# year: manufacturing year\n",
    "# selling_prince: selling price\n",
    "# km_drive: mileage\n",
    "# fuel: fuel type\n",
    "# seller_type: seller type\n",
    "# transmission: transmission type\n",
    "# owner: number of previous owners\n",
    "# mileage: mileage per liter\n",
    "# engine: engine size\n",
    "# max_power: maximum power\n",
    "# torque: torque\n",
    "# seats: number of seats\n",
    "# engine_numeric: engine size in numbers\n",
    "# max_power_numeric: maximum power in numbers\n",
    "# torque_numeric: torque in numbers\n",
    "# mileage_numeric: mileage per liter in numbers\n"
   ]
  },
  {
   "cell_type": "code",
   "execution_count": 2,
   "metadata": {},
   "outputs": [],
   "source": [
    "#Importar librerias\n",
    "#Import libraries\n",
    "import pandas as pd\n",
    "import numpy as np\n",
    "import matplotlib.pyplot as plt"
   ]
  },
  {
   "cell_type": "code",
   "execution_count": 6,
   "metadata": {},
   "outputs": [],
   "source": [
    "# Cargar datos:\n",
    "# Load data:\n",
    "data_details = pd.read_csv('CarDetailsOrganizado.csv', delimiter=';')"
   ]
  },
  {
   "cell_type": "code",
   "execution_count": 7,
   "metadata": {},
   "outputs": [
    {
     "name": "stdout",
     "output_type": "stream",
     "text": [
      "                           name  year  selling_price  km_driven    fuel  \\\n",
      "0        Maruti Swift Dzire VDI  2014         450000     145500  Diesel   \n",
      "1  Skoda Rapid 1.5 TDI Ambition  2014         370000     120000  Diesel   \n",
      "2      Honda City 2017-2020 EXi  2006         158000     140000  Petrol   \n",
      "3     Hyundai i20 Sportz Diesel  2010         225000     127000  Diesel   \n",
      "4        Maruti Swift VXI BSIII  2007         130000     120000  Petrol   \n",
      "\n",
      "  seller_type transmission         owner     mileage   engine   max_power  \\\n",
      "0  Individual       Manual   First Owner   23.4 kmpl  1248 CC      74 bhp   \n",
      "1  Individual       Manual  Second Owner  21.14 kmpl  1498 CC  103.52 bhp   \n",
      "2  Individual       Manual   Third Owner   17.7 kmpl  1497 CC      78 bhp   \n",
      "3  Individual       Manual   First Owner   23.0 kmpl  1396 CC      90 bhp   \n",
      "4  Individual       Manual   First Owner   16.1 kmpl  1298 CC    88.2 bhp   \n",
      "\n",
      "                     torque  seats  \n",
      "0            190Nm@ 2000rpm    5.0  \n",
      "1       250Nm@ 1500-2500rpm    5.0  \n",
      "2     12.7@ 2,700(kgm@ rpm)    5.0  \n",
      "3  22.4 kgm at 1750-2750rpm    5.0  \n",
      "4     11.5@ 4,500(kgm@ rpm)    5.0  \n"
     ]
    }
   ],
   "source": [
    "# Verificar datos:\n",
    "# Check data:\n",
    "print(data_details.head())"
   ]
  },
  {
   "cell_type": "code",
   "execution_count": 10,
   "metadata": {},
   "outputs": [
    {
     "name": "stdout",
     "output_type": "stream",
     "text": [
      "Filas y columnas:\n"
     ]
    },
    {
     "data": {
      "text/plain": [
       "(7912, 13)"
      ]
     },
     "execution_count": 10,
     "metadata": {},
     "output_type": "execute_result"
    }
   ],
   "source": [
    "#print(\"Filas y columnas:\")\n",
    "print(\"Rows and columns:\")\n",
    "data_details.shape\n"
   ]
  },
  {
   "cell_type": "code",
   "execution_count": 11,
   "metadata": {},
   "outputs": [
    {
     "name": "stdout",
     "output_type": "stream",
     "text": [
      "<class 'pandas.core.frame.DataFrame'>\n",
      "RangeIndex: 7912 entries, 0 to 7911\n",
      "Data columns (total 13 columns):\n",
      " #   Column         Non-Null Count  Dtype  \n",
      "---  ------         --------------  -----  \n",
      " 0   name           7912 non-null   object \n",
      " 1   year           7912 non-null   int64  \n",
      " 2   selling_price  7912 non-null   int64  \n",
      " 3   km_driven      7912 non-null   int64  \n",
      " 4   fuel           7912 non-null   object \n",
      " 5   seller_type    7912 non-null   object \n",
      " 6   transmission   7912 non-null   object \n",
      " 7   owner          7912 non-null   object \n",
      " 8   mileage        7908 non-null   object \n",
      " 9   engine         7908 non-null   object \n",
      " 10  max_power      7912 non-null   object \n",
      " 11  torque         7907 non-null   object \n",
      " 12  seats          7908 non-null   float64\n",
      "dtypes: float64(1), int64(3), object(9)\n",
      "memory usage: 803.7+ KB\n"
     ]
    }
   ],
   "source": [
    "# Verificar datos nulos:\n",
    "# Check null data:\n",
    "data_details.info()"
   ]
  },
  {
   "cell_type": "code",
   "execution_count": 12,
   "metadata": {},
   "outputs": [
    {
     "data": {
      "text/html": [
       "<div>\n",
       "<style scoped>\n",
       "    .dataframe tbody tr th:only-of-type {\n",
       "        vertical-align: middle;\n",
       "    }\n",
       "\n",
       "    .dataframe tbody tr th {\n",
       "        vertical-align: top;\n",
       "    }\n",
       "\n",
       "    .dataframe thead th {\n",
       "        text-align: right;\n",
       "    }\n",
       "</style>\n",
       "<table border=\"1\" class=\"dataframe\">\n",
       "  <thead>\n",
       "    <tr style=\"text-align: right;\">\n",
       "      <th></th>\n",
       "      <th>year</th>\n",
       "      <th>selling_price</th>\n",
       "      <th>km_driven</th>\n",
       "      <th>seats</th>\n",
       "    </tr>\n",
       "  </thead>\n",
       "  <tbody>\n",
       "    <tr>\n",
       "      <th>count</th>\n",
       "      <td>7912.000000</td>\n",
       "      <td>7.912000e+03</td>\n",
       "      <td>7.912000e+03</td>\n",
       "      <td>7908.000000</td>\n",
       "    </tr>\n",
       "    <tr>\n",
       "      <th>mean</th>\n",
       "      <td>2013.979525</td>\n",
       "      <td>6.490944e+05</td>\n",
       "      <td>6.919085e+04</td>\n",
       "      <td>5.416414</td>\n",
       "    </tr>\n",
       "    <tr>\n",
       "      <th>std</th>\n",
       "      <td>3.868210</td>\n",
       "      <td>8.125961e+05</td>\n",
       "      <td>5.677140e+04</td>\n",
       "      <td>0.959912</td>\n",
       "    </tr>\n",
       "    <tr>\n",
       "      <th>min</th>\n",
       "      <td>1994.000000</td>\n",
       "      <td>2.999900e+04</td>\n",
       "      <td>1.000000e+00</td>\n",
       "      <td>2.000000</td>\n",
       "    </tr>\n",
       "    <tr>\n",
       "      <th>25%</th>\n",
       "      <td>2012.000000</td>\n",
       "      <td>2.700000e+05</td>\n",
       "      <td>3.500000e+04</td>\n",
       "      <td>5.000000</td>\n",
       "    </tr>\n",
       "    <tr>\n",
       "      <th>50%</th>\n",
       "      <td>2015.000000</td>\n",
       "      <td>4.500000e+05</td>\n",
       "      <td>6.000000e+04</td>\n",
       "      <td>5.000000</td>\n",
       "    </tr>\n",
       "    <tr>\n",
       "      <th>75%</th>\n",
       "      <td>2017.000000</td>\n",
       "      <td>6.900000e+05</td>\n",
       "      <td>9.527500e+04</td>\n",
       "      <td>5.000000</td>\n",
       "    </tr>\n",
       "    <tr>\n",
       "      <th>max</th>\n",
       "      <td>2020.000000</td>\n",
       "      <td>1.000000e+07</td>\n",
       "      <td>2.360457e+06</td>\n",
       "      <td>14.000000</td>\n",
       "    </tr>\n",
       "  </tbody>\n",
       "</table>\n",
       "</div>"
      ],
      "text/plain": [
       "              year  selling_price     km_driven        seats\n",
       "count  7912.000000   7.912000e+03  7.912000e+03  7908.000000\n",
       "mean   2013.979525   6.490944e+05  6.919085e+04     5.416414\n",
       "std       3.868210   8.125961e+05  5.677140e+04     0.959912\n",
       "min    1994.000000   2.999900e+04  1.000000e+00     2.000000\n",
       "25%    2012.000000   2.700000e+05  3.500000e+04     5.000000\n",
       "50%    2015.000000   4.500000e+05  6.000000e+04     5.000000\n",
       "75%    2017.000000   6.900000e+05  9.527500e+04     5.000000\n",
       "max    2020.000000   1.000000e+07  2.360457e+06    14.000000"
      ]
     },
     "execution_count": 12,
     "metadata": {},
     "output_type": "execute_result"
    }
   ],
   "source": [
    "# Estadisticas descriptivas:\n",
    "# Descriptive statistics:\n",
    "data_details.describe()"
   ]
  },
  {
   "cell_type": "code",
   "execution_count": 14,
   "metadata": {},
   "outputs": [
    {
     "name": "stderr",
     "output_type": "stream",
     "text": [
      "<>:2: SyntaxWarning: invalid escape sequence '\\d'\n",
      "<>:2: SyntaxWarning: invalid escape sequence '\\d'\n",
      "C:\\Users\\Santiago HG\\AppData\\Local\\Temp\\ipykernel_13116\\1045302548.py:2: SyntaxWarning: invalid escape sequence '\\d'\n",
      "  data_details['engine_numeric'] = data_details['engine'].str.extract('(\\d+)').astype(float)\n"
     ]
    },
    {
     "name": "stdout",
     "output_type": "stream",
     "text": [
      "       engine  engine_numeric\n",
      "0     1248 CC          1248.0\n",
      "1     1498 CC          1498.0\n",
      "2     1497 CC          1497.0\n",
      "3     1396 CC          1396.0\n",
      "4     1298 CC          1298.0\n",
      "...       ...             ...\n",
      "7907  1197 CC          1197.0\n",
      "7908  1493 CC          1493.0\n",
      "7909  1248 CC          1248.0\n",
      "7910  1396 CC          1396.0\n",
      "7911  1396 CC          1396.0\n",
      "\n",
      "[7912 rows x 2 columns]\n"
     ]
    }
   ],
   "source": [
    "# Crear una nueva columna 'engine_numeric' con los valores convertidos a numéricos\n",
    "data_details['engine_numeric'] = data_details['engine'].str.extract('(\\d+)').astype(float)\n",
    "\n",
    "# Verificar el resultado\n",
    "print(data_details[['engine', 'engine_numeric']])"
   ]
  },
  {
   "cell_type": "code",
   "execution_count": 15,
   "metadata": {},
   "outputs": [
    {
     "name": "stdout",
     "output_type": "stream",
     "text": [
      "         mileage  mileage_numeric\n",
      "0      23.4 kmpl            23.40\n",
      "1     21.14 kmpl            21.14\n",
      "2      17.7 kmpl            17.70\n",
      "3      23.0 kmpl            23.00\n",
      "4      16.1 kmpl            16.10\n",
      "...          ...              ...\n",
      "7907   18.5 kmpl            18.50\n",
      "7908   16.8 kmpl            16.80\n",
      "7909   19.3 kmpl            19.30\n",
      "7910  23.57 kmpl            23.57\n",
      "7911  23.57 kmpl            23.57\n",
      "\n",
      "[7912 rows x 2 columns]\n"
     ]
    },
    {
     "name": "stderr",
     "output_type": "stream",
     "text": [
      "<>:2: SyntaxWarning: invalid escape sequence '\\d'\n",
      "<>:2: SyntaxWarning: invalid escape sequence '\\d'\n",
      "C:\\Users\\Santiago HG\\AppData\\Local\\Temp\\ipykernel_13116\\1347746073.py:2: SyntaxWarning: invalid escape sequence '\\d'\n",
      "  data_details['mileage_numeric'] = data_details['mileage'].str.extract('(\\d+\\.\\d+)').astype(float)\n"
     ]
    }
   ],
   "source": [
    "# Crear una nueva columna 'mileage_numeric' con los valores convertidos a numéricos\n",
    "data_details['mileage_numeric'] = data_details['mileage'].str.extract('(\\d+\\.\\d+)').astype(float)\n",
    "\n",
    "# Verificar el resultado\n",
    "print(data_details[['mileage', 'mileage_numeric']])\n"
   ]
  },
  {
   "cell_type": "code",
   "execution_count": 16,
   "metadata": {},
   "outputs": [
    {
     "name": "stdout",
     "output_type": "stream",
     "text": [
      "       max_power  max_power_numeric\n",
      "0         74 bhp               74.0\n",
      "1     103.52 bhp              103.0\n",
      "2         78 bhp               78.0\n",
      "3         90 bhp               90.0\n",
      "4       88.2 bhp               88.0\n",
      "...          ...                ...\n",
      "7907   82.85 bhp               82.0\n",
      "7908     110 bhp              110.0\n",
      "7909    73.9 bhp               73.0\n",
      "7910      70 bhp               70.0\n",
      "7911      70 bhp               70.0\n",
      "\n",
      "[7912 rows x 2 columns]\n"
     ]
    },
    {
     "name": "stderr",
     "output_type": "stream",
     "text": [
      "<>:2: SyntaxWarning: invalid escape sequence '\\d'\n",
      "<>:2: SyntaxWarning: invalid escape sequence '\\d'\n",
      "C:\\Users\\Santiago HG\\AppData\\Local\\Temp\\ipykernel_13116\\2756909459.py:2: SyntaxWarning: invalid escape sequence '\\d'\n",
      "  data_details['max_power_numeric'] = data_details['max_power'].str.extract('(\\d+)').astype(float)\n"
     ]
    }
   ],
   "source": [
    "# Crear una nueva columna 'max_power_numeric' con los valores convertidos a numéricos\n",
    "data_details['max_power_numeric'] = data_details['max_power'].str.extract('(\\d+)').astype(float)\n",
    "\n",
    "# Verificar el resultado\n",
    "print(data_details[['max_power', 'max_power_numeric']])\n"
   ]
  },
  {
   "cell_type": "code",
   "execution_count": 18,
   "metadata": {},
   "outputs": [
    {
     "data": {
      "text/plain": [
       "Index(['name', 'year', 'selling_price', 'km_driven', 'fuel', 'seller_type',\n",
       "       'transmission', 'owner', 'mileage', 'engine', 'max_power', 'torque',\n",
       "       'seats', 'engine_numeric', 'mileage_numeric', 'max_power_numeric'],\n",
       "      dtype='object')"
      ]
     },
     "execution_count": 18,
     "metadata": {},
     "output_type": "execute_result"
    }
   ],
   "source": [
    "#Modificacion del csv con las columnas nuevas: \n",
    "#Modification of the csv with the new columns:\n",
    "data_details.columns"
   ]
  }
 ],
 "metadata": {
  "kernelspec": {
   "display_name": "Python 3",
   "language": "python",
   "name": "python3"
  },
  "language_info": {
   "codemirror_mode": {
    "name": "ipython",
    "version": 3
   },
   "file_extension": ".py",
   "mimetype": "text/x-python",
   "name": "python",
   "nbconvert_exporter": "python",
   "pygments_lexer": "ipython3",
   "version": "3.12.0"
  }
 },
 "nbformat": 4,
 "nbformat_minor": 2
}
