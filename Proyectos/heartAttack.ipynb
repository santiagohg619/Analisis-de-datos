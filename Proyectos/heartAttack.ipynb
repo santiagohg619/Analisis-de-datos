{
 "cells": [
  {
   "cell_type": "code",
   "execution_count": 1,
   "metadata": {},
   "outputs": [],
   "source": [
    "import pandas as pd\n",
    "import numpy as np\n",
    "import seaborn as sns\n",
    "import matplotlib.pyplot as plt\n",
    "import plotly.express as px\n",
    "import warnings\n",
    "\n",
    "warnings.simplefilter(action='ignore', category=FutureWarning)\n",
    "import plotly.graph_objects as go"
   ]
  },
  {
   "cell_type": "code",
   "execution_count": 2,
   "metadata": {},
   "outputs": [
    {
     "data": {
      "text/plain": [
       "\"\\nAge: The age of the patient.\\nSex: The gender of the patient (1 = male, 0 = female).\\nChest Pain Type: The type of chest pain experienced (ranging from 0 to 3, indicating different severity levels).\\nResting Blood Pressure: The patient's resting blood pressure in mm Hg.\\nCholesterol: The patient's serum cholesterol level in mg/dl.\\nFasting Blood Sugar: Indicates whether the patient's fasting blood sugar is greater than 120 mg/dl (1 = true, 0 = false).\\n\""
      ]
     },
     "execution_count": 2,
     "metadata": {},
     "output_type": "execute_result"
    }
   ],
   "source": [
    "\"\"\"\n",
    "Age: The age of the patient.\n",
    "Sex: The gender of the patient (1 = male, 0 = female).\n",
    "Chest Pain Type: The type of chest pain experienced (ranging from 0 to 3, indicating different severity levels).\n",
    "Resting Blood Pressure: The patient's resting blood pressure in mm Hg.\n",
    "Cholesterol: The patient's serum cholesterol level in mg/dl.\n",
    "Fasting Blood Sugar: Indicates whether the patient's fasting blood sugar is greater than 120 mg/dl (1 = true, 0 = false).\n",
    "\"\"\""
   ]
  },
  {
   "cell_type": "code",
   "execution_count": 5,
   "metadata": {},
   "outputs": [
    {
     "data": {
      "text/html": [
       "<div>\n",
       "<style scoped>\n",
       "    .dataframe tbody tr th:only-of-type {\n",
       "        vertical-align: middle;\n",
       "    }\n",
       "\n",
       "    .dataframe tbody tr th {\n",
       "        vertical-align: top;\n",
       "    }\n",
       "\n",
       "    .dataframe thead th {\n",
       "        text-align: right;\n",
       "    }\n",
       "</style>\n",
       "<table border=\"1\" class=\"dataframe\">\n",
       "  <thead>\n",
       "    <tr style=\"text-align: right;\">\n",
       "      <th></th>\n",
       "      <th>Gender</th>\n",
       "      <th>Age</th>\n",
       "      <th>Blood Pressure (mmHg)</th>\n",
       "      <th>Cholesterol (mg/dL)</th>\n",
       "      <th>Has Diabetes</th>\n",
       "      <th>Smoking Status</th>\n",
       "      <th>Chest Pain Type</th>\n",
       "      <th>Treatment</th>\n",
       "    </tr>\n",
       "  </thead>\n",
       "  <tbody>\n",
       "    <tr>\n",
       "      <th>0</th>\n",
       "      <td>Male</td>\n",
       "      <td>70</td>\n",
       "      <td>181</td>\n",
       "      <td>262</td>\n",
       "      <td>No</td>\n",
       "      <td>Never</td>\n",
       "      <td>Typical Angina</td>\n",
       "      <td>Lifestyle Changes</td>\n",
       "    </tr>\n",
       "    <tr>\n",
       "      <th>1</th>\n",
       "      <td>Female</td>\n",
       "      <td>55</td>\n",
       "      <td>103</td>\n",
       "      <td>253</td>\n",
       "      <td>Yes</td>\n",
       "      <td>Never</td>\n",
       "      <td>Atypical Angina</td>\n",
       "      <td>Angioplasty</td>\n",
       "    </tr>\n",
       "    <tr>\n",
       "      <th>2</th>\n",
       "      <td>Male</td>\n",
       "      <td>42</td>\n",
       "      <td>95</td>\n",
       "      <td>295</td>\n",
       "      <td>Yes</td>\n",
       "      <td>Current</td>\n",
       "      <td>Typical Angina</td>\n",
       "      <td>Angioplasty</td>\n",
       "    </tr>\n",
       "    <tr>\n",
       "      <th>3</th>\n",
       "      <td>Male</td>\n",
       "      <td>84</td>\n",
       "      <td>106</td>\n",
       "      <td>270</td>\n",
       "      <td>No</td>\n",
       "      <td>Never</td>\n",
       "      <td>Atypical Angina</td>\n",
       "      <td>Coronary Artery Bypass Graft (CABG)</td>\n",
       "    </tr>\n",
       "    <tr>\n",
       "      <th>4</th>\n",
       "      <td>Male</td>\n",
       "      <td>86</td>\n",
       "      <td>187</td>\n",
       "      <td>296</td>\n",
       "      <td>Yes</td>\n",
       "      <td>Current</td>\n",
       "      <td>Non-anginal Pain</td>\n",
       "      <td>Medication</td>\n",
       "    </tr>\n",
       "  </tbody>\n",
       "</table>\n",
       "</div>"
      ],
      "text/plain": [
       "   Gender  Age  Blood Pressure (mmHg)  Cholesterol (mg/dL) Has Diabetes  \\\n",
       "0    Male   70                    181                  262           No   \n",
       "1  Female   55                    103                  253          Yes   \n",
       "2    Male   42                     95                  295          Yes   \n",
       "3    Male   84                    106                  270           No   \n",
       "4    Male   86                    187                  296          Yes   \n",
       "\n",
       "  Smoking Status   Chest Pain Type                            Treatment  \n",
       "0          Never    Typical Angina                    Lifestyle Changes  \n",
       "1          Never   Atypical Angina                          Angioplasty  \n",
       "2        Current    Typical Angina                          Angioplasty  \n",
       "3          Never   Atypical Angina  Coronary Artery Bypass Graft (CABG)  \n",
       "4        Current  Non-anginal Pain                           Medication  "
      ]
     },
     "execution_count": 5,
     "metadata": {},
     "output_type": "execute_result"
    }
   ],
   "source": [
    "#Lectura de la base de datos:\n",
    "data = pd.read_csv('heart_attack_dataset.csv')\n",
    "#Imprimir los primeros 5:\n",
    "data.head()"
   ]
  },
  {
   "cell_type": "code",
   "execution_count": 6,
   "metadata": {},
   "outputs": [
    {
     "name": "stdout",
     "output_type": "stream",
     "text": [
      "<class 'pandas.core.frame.DataFrame'>\n",
      "RangeIndex: 1000 entries, 0 to 999\n",
      "Data columns (total 8 columns):\n",
      " #   Column                 Non-Null Count  Dtype \n",
      "---  ------                 --------------  ----- \n",
      " 0   Gender                 1000 non-null   object\n",
      " 1   Age                    1000 non-null   int64 \n",
      " 2   Blood Pressure (mmHg)  1000 non-null   int64 \n",
      " 3   Cholesterol (mg/dL)    1000 non-null   int64 \n",
      " 4   Has Diabetes           1000 non-null   object\n",
      " 5   Smoking Status         1000 non-null   object\n",
      " 6   Chest Pain Type        1000 non-null   object\n",
      " 7   Treatment              1000 non-null   object\n",
      "dtypes: int64(3), object(5)\n",
      "memory usage: 62.6+ KB\n"
     ]
    }
   ],
   "source": [
    "data.info()"
   ]
  },
  {
   "cell_type": "code",
   "execution_count": 7,
   "metadata": {},
   "outputs": [
    {
     "data": {
      "text/html": [
       "<div>\n",
       "<style scoped>\n",
       "    .dataframe tbody tr th:only-of-type {\n",
       "        vertical-align: middle;\n",
       "    }\n",
       "\n",
       "    .dataframe tbody tr th {\n",
       "        vertical-align: top;\n",
       "    }\n",
       "\n",
       "    .dataframe thead th {\n",
       "        text-align: right;\n",
       "    }\n",
       "</style>\n",
       "<table border=\"1\" class=\"dataframe\">\n",
       "  <thead>\n",
       "    <tr style=\"text-align: right;\">\n",
       "      <th></th>\n",
       "      <th>count</th>\n",
       "      <th>mean</th>\n",
       "      <th>std</th>\n",
       "      <th>min</th>\n",
       "      <th>25%</th>\n",
       "      <th>50%</th>\n",
       "      <th>75%</th>\n",
       "      <th>max</th>\n",
       "    </tr>\n",
       "  </thead>\n",
       "  <tbody>\n",
       "    <tr>\n",
       "      <th>Age</th>\n",
       "      <td>1000.0</td>\n",
       "      <td>60.338</td>\n",
       "      <td>17.317496</td>\n",
       "      <td>30.0</td>\n",
       "      <td>45.0</td>\n",
       "      <td>60.5</td>\n",
       "      <td>76.0</td>\n",
       "      <td>89.0</td>\n",
       "    </tr>\n",
       "    <tr>\n",
       "      <th>Blood Pressure (mmHg)</th>\n",
       "      <td>1000.0</td>\n",
       "      <td>145.440</td>\n",
       "      <td>31.756525</td>\n",
       "      <td>90.0</td>\n",
       "      <td>118.0</td>\n",
       "      <td>146.0</td>\n",
       "      <td>173.0</td>\n",
       "      <td>199.0</td>\n",
       "    </tr>\n",
       "    <tr>\n",
       "      <th>Cholesterol (mg/dL)</th>\n",
       "      <td>1000.0</td>\n",
       "      <td>223.789</td>\n",
       "      <td>42.787817</td>\n",
       "      <td>150.0</td>\n",
       "      <td>185.0</td>\n",
       "      <td>225.5</td>\n",
       "      <td>259.0</td>\n",
       "      <td>299.0</td>\n",
       "    </tr>\n",
       "  </tbody>\n",
       "</table>\n",
       "</div>"
      ],
      "text/plain": [
       "                        count     mean        std    min    25%    50%    75%  \\\n",
       "Age                    1000.0   60.338  17.317496   30.0   45.0   60.5   76.0   \n",
       "Blood Pressure (mmHg)  1000.0  145.440  31.756525   90.0  118.0  146.0  173.0   \n",
       "Cholesterol (mg/dL)    1000.0  223.789  42.787817  150.0  185.0  225.5  259.0   \n",
       "\n",
       "                         max  \n",
       "Age                     89.0  \n",
       "Blood Pressure (mmHg)  199.0  \n",
       "Cholesterol (mg/dL)    299.0  "
      ]
     },
     "execution_count": 7,
     "metadata": {},
     "output_type": "execute_result"
    }
   ],
   "source": [
    "data.describe().T"
   ]
  },
  {
   "cell_type": "code",
   "execution_count": 8,
   "metadata": {},
   "outputs": [
    {
     "name": "stdout",
     "output_type": "stream",
     "text": [
      "Numerical Column Names: ['Age', 'Blood Pressure (mmHg)', 'Cholesterol (mg/dL)']\n"
     ]
    }
   ],
   "source": [
    "numerical_column_names = data.select_dtypes(include=['number']).columns\n",
    "print(\"Numerical Column Names:\", numerical_column_names.tolist())"
   ]
  },
  {
   "cell_type": "code",
   "execution_count": 9,
   "metadata": {},
   "outputs": [
    {
     "name": "stdout",
     "output_type": "stream",
     "text": [
      "Object Column Names: ['Gender', 'Has Diabetes', 'Smoking Status', 'Chest Pain Type', 'Treatment']\n"
     ]
    }
   ],
   "source": [
    "object_column_names = data.select_dtypes(include=['object']).columns\n",
    "print(\"Object Column Names:\", object_column_names.tolist())"
   ]
  },
  {
   "cell_type": "code",
   "execution_count": 10,
   "metadata": {},
   "outputs": [
    {
     "data": {
      "text/plain": [
       "Gender                   0\n",
       "Age                      0\n",
       "Blood Pressure (mmHg)    0\n",
       "Cholesterol (mg/dL)      0\n",
       "Has Diabetes             0\n",
       "Smoking Status           0\n",
       "Chest Pain Type          0\n",
       "Treatment                0\n",
       "dtype: int64"
      ]
     },
     "execution_count": 10,
     "metadata": {},
     "output_type": "execute_result"
    }
   ],
   "source": [
    "data.isnull().sum()"
   ]
  },
  {
   "cell_type": "code",
   "execution_count": 11,
   "metadata": {},
   "outputs": [
    {
     "data": {
      "text/plain": [
       "0"
      ]
     },
     "execution_count": 11,
     "metadata": {},
     "output_type": "execute_result"
    }
   ],
   "source": [
    "data.duplicated().sum()"
   ]
  },
  {
   "cell_type": "code",
   "execution_count": 12,
   "metadata": {},
   "outputs": [
    {
     "data": {
      "text/plain": [
       "Gender                     2\n",
       "Age                       60\n",
       "Blood Pressure (mmHg)    109\n",
       "Cholesterol (mg/dL)      149\n",
       "Has Diabetes               2\n",
       "Smoking Status             3\n",
       "Chest Pain Type            4\n",
       "Treatment                  4\n",
       "dtype: int64"
      ]
     },
     "execution_count": 12,
     "metadata": {},
     "output_type": "execute_result"
    }
   ],
   "source": [
    "data.nunique()"
   ]
  },
  {
   "cell_type": "code",
   "execution_count": 13,
   "metadata": {},
   "outputs": [
    {
     "name": "stdout",
     "output_type": "stream",
     "text": [
      "Unique values in column 'Gender': ['Male' 'Female']\n",
      "Unique values in column 'Age': [70 55 42 84 86 66 33 73 63 88 69 78 89 71 30 77 76 74 45 34 61 52 49 81\n",
      " 39 32 46 67 41 35 80 85 57 79 62 48 36 64 60 50 72 65 40 51 82 75 31 43\n",
      " 37 38 54 44 59 58 53 83 56 87 47 68]\n",
      "Unique values in column 'Blood Pressure (mmHg)': [181 103  95 106 187 125 182 115 174 154 133 165 153 110 107 112  91 101\n",
      " 141 124 109 143 197 149 104 159 193 135 190 129 126 134 172 179 111 192\n",
      " 180 166 119 139 116 191 120 158 138 198 162 142 169 178 196 164 161 168\n",
      " 113 185 148 171 176 183 147  97 175 105 145  98 128 195 146 167 163 144\n",
      " 156 122 152 136 151 150 114 127 186 184 137  96 188 100 173 199 132 160\n",
      " 194  99  94 170 140 130 123 117 189 157 131 121 118 102  93 108  90  92\n",
      " 155]\n",
      "Unique values in column 'Cholesterol (mg/dL)': [262 253 295 270 296 271 288 286 254 150 236 171 215 182 242 179 227 259\n",
      " 273 212 222 285 266 209 157 191 268 161 274 248 205 280 255 188 246 297\n",
      " 181 249 258 235 201 204 198 200 186 217 176 233 216 210 172 165 190 183\n",
      " 156 229 294 195 220 243 265 283 225 234 166 199 185 203 158 167 164 256\n",
      " 178 287 282 202 230 175 223 193 170 272 207 292 219 184 251 196 239 299\n",
      " 261 279 160 276 278 214 298 252 218 241 237 154 173 155 232 152 163 245\n",
      " 244 267 180 284 206 289 293 240 153 159 213 238 269 151 208 162 189 277\n",
      " 257 169 168 221 290 263 177 174 247 281 260 250 194 187 275 224 226 264\n",
      " 291 231 192 211 197]\n",
      "Unique values in column 'Has Diabetes': ['No' 'Yes']\n",
      "Unique values in column 'Smoking Status': ['Never' 'Current' 'Former']\n",
      "Unique values in column 'Chest Pain Type': ['Typical Angina' 'Atypical Angina' 'Non-anginal Pain' 'Asymptomatic']\n",
      "Unique values in column 'Treatment': ['Lifestyle Changes' 'Angioplasty' 'Coronary Artery Bypass Graft (CABG)'\n",
      " 'Medication']\n"
     ]
    }
   ],
   "source": [
    "for column in data.columns:\n",
    "    unique_values = data[column].unique()\n",
    "    print(f\"Unique values in column '{column}': {unique_values}\")"
   ]
  },
  {
   "cell_type": "code",
   "execution_count": 14,
   "metadata": {},
   "outputs": [
    {
     "name": "stdout",
     "output_type": "stream",
     "text": [
      "Number of Rows: 1000\n"
     ]
    }
   ],
   "source": [
    "print(\"Number of Rows:\",data.shape[0])"
   ]
  },
  {
   "cell_type": "code",
   "execution_count": 15,
   "metadata": {},
   "outputs": [
    {
     "name": "stdout",
     "output_type": "stream",
     "text": [
      "Number of Columns: 8\n"
     ]
    }
   ],
   "source": [
    "print(\"Number of Columns:\",data.shape[1])"
   ]
  },
  {
   "cell_type": "code",
   "execution_count": 16,
   "metadata": {},
   "outputs": [
    {
     "name": "stdout",
     "output_type": "stream",
     "text": [
      "Most frequent gender: Female\n"
     ]
    }
   ],
   "source": [
    "print(\"Most frequent gender:\",data['Gender'].mode()[0])"
   ]
  },
  {
   "cell_type": "code",
   "execution_count": 17,
   "metadata": {},
   "outputs": [
    {
     "name": "stdout",
     "output_type": "stream",
     "text": [
      "Minimun Age: 30\n"
     ]
    }
   ],
   "source": [
    "print(\"Minimun Age:\",data['Age'].min())"
   ]
  },
  {
   "cell_type": "code",
   "execution_count": 18,
   "metadata": {},
   "outputs": [
    {
     "name": "stdout",
     "output_type": "stream",
     "text": [
      "Average Age: 60.34\n"
     ]
    }
   ],
   "source": [
    "print(\"Average Age:\",data['Age'].mean().round(2))"
   ]
  },
  {
   "cell_type": "code",
   "execution_count": 19,
   "metadata": {},
   "outputs": [
    {
     "name": "stdout",
     "output_type": "stream",
     "text": [
      "Maximun Age: 89\n"
     ]
    }
   ],
   "source": [
    "print(\"Maximun Age:\",data['Age'].max())"
   ]
  },
  {
   "cell_type": "code",
   "execution_count": 20,
   "metadata": {},
   "outputs": [
    {
     "name": "stdout",
     "output_type": "stream",
     "text": [
      "Average Blood Pressure: 145.44 mmHg\n"
     ]
    }
   ],
   "source": [
    "print(\"Average Blood Pressure:\",data['Blood Pressure (mmHg)'].mean().round(2),'mmHg')"
   ]
  },
  {
   "cell_type": "code",
   "execution_count": 21,
   "metadata": {},
   "outputs": [
    {
     "name": "stdout",
     "output_type": "stream",
     "text": [
      "Minimun Cholesterol: 150 mg/dL\n"
     ]
    }
   ],
   "source": [
    "print(\"Minimun Cholesterol:\",data['Cholesterol (mg/dL)'].min(),'mg/dL')"
   ]
  },
  {
   "cell_type": "code",
   "execution_count": 22,
   "metadata": {},
   "outputs": [
    {
     "name": "stdout",
     "output_type": "stream",
     "text": [
      "Average Cholesterol: 223.79 mm/dL\n"
     ]
    }
   ],
   "source": [
    "print(\"Average Cholesterol:\",data['Cholesterol (mg/dL)'].mean().round(2),'mm/dL')"
   ]
  },
  {
   "cell_type": "code",
   "execution_count": 24,
   "metadata": {},
   "outputs": [
    {
     "name": "stdout",
     "output_type": "stream",
     "text": [
      "Maximun Cholesterol: 299 mg/dL\n"
     ]
    }
   ],
   "source": [
    "print(\"Maximun Cholesterol:\",data['Cholesterol (mg/dL)'].max(),'mg/dL')"
   ]
  },
  {
   "cell_type": "code",
   "execution_count": 23,
   "metadata": {},
   "outputs": [
    {
     "data": {
      "text/html": [
       "<div>\n",
       "<style scoped>\n",
       "    .dataframe tbody tr th:only-of-type {\n",
       "        vertical-align: middle;\n",
       "    }\n",
       "\n",
       "    .dataframe tbody tr th {\n",
       "        vertical-align: top;\n",
       "    }\n",
       "\n",
       "    .dataframe thead th {\n",
       "        text-align: right;\n",
       "    }\n",
       "</style>\n",
       "<table border=\"1\" class=\"dataframe\">\n",
       "  <thead>\n",
       "    <tr style=\"text-align: right;\">\n",
       "      <th></th>\n",
       "      <th>Age</th>\n",
       "      <th>Blood Pressure (mmHg)</th>\n",
       "      <th>Cholesterol (mg/dL)</th>\n",
       "    </tr>\n",
       "  </thead>\n",
       "  <tbody>\n",
       "    <tr>\n",
       "      <th>Age</th>\n",
       "      <td>1.000000</td>\n",
       "      <td>-0.003303</td>\n",
       "      <td>0.001661</td>\n",
       "    </tr>\n",
       "    <tr>\n",
       "      <th>Blood Pressure (mmHg)</th>\n",
       "      <td>-0.003303</td>\n",
       "      <td>1.000000</td>\n",
       "      <td>0.044316</td>\n",
       "    </tr>\n",
       "    <tr>\n",
       "      <th>Cholesterol (mg/dL)</th>\n",
       "      <td>0.001661</td>\n",
       "      <td>0.044316</td>\n",
       "      <td>1.000000</td>\n",
       "    </tr>\n",
       "  </tbody>\n",
       "</table>\n",
       "</div>"
      ],
      "text/plain": [
       "                            Age  Blood Pressure (mmHg)  Cholesterol (mg/dL)\n",
       "Age                    1.000000              -0.003303             0.001661\n",
       "Blood Pressure (mmHg) -0.003303               1.000000             0.044316\n",
       "Cholesterol (mg/dL)    0.001661               0.044316             1.000000"
      ]
     },
     "execution_count": 23,
     "metadata": {},
     "output_type": "execute_result"
    }
   ],
   "source": [
    "numerical_data = data.select_dtypes(include=['number'])\n",
    "corr_matrix = numerical_data.corr()\n",
    "\n",
    "corr_matrix"
   ]
  },
  {
   "cell_type": "code",
   "execution_count": 25,
   "metadata": {},
   "outputs": [
    {
     "data": {
      "image/png": "[encoded data removed]",
      "text/plain": [
       "<Figure size 500x400 with 2 Axes>"
      ]
     },
     "metadata": {},
     "output_type": "display_data"
    }
   ],
   "source": [
    "plt.figure(figsize=(5, 4))\n",
    "sns.heatmap(corr_matrix, annot=True, cmap='coolwarm', fmt='.5f', linewidths=0.5)\n",
    "plt.title('Correlation Matrix of Numerical Features')\n",
    "plt.show()"
   ]
  },
  {
   "cell_type": "code",
   "execution_count": 30,
   "metadata": {},
   "outputs": [
    {
     "name": "stdout",
     "output_type": "stream",
     "text": [
      "Note: you may need to restart the kernel to use updated packages.\n"
     ]
    },
    {
     "name": "stderr",
     "output_type": "stream",
     "text": [
      "\n",
      "[notice] A new release of pip available: 22.3.1 -> 24.2\n",
      "[notice] To update, run: python.exe -m pip install --upgrade pip\n"
     ]
    }
   ],
   "source": [
    "%pip install nbformat>=4.2.0"
   ]
  }
 ],
 "metadata": {
  "kernelspec": {
   "display_name": "Python 3",
   "language": "python",
   "name": "python3"
  },
  "language_info": {
   "codemirror_mode": {
    "name": "ipython",
    "version": 3
   },
   "file_extension": ".py",
   "mimetype": "text/x-python",
   "name": "python",
   "nbconvert_exporter": "python",
   "pygments_lexer": "ipython3",
   "version": "3.10.10"
  }
 },
 "nbformat": 4,
 "nbformat_minor": 2
}
